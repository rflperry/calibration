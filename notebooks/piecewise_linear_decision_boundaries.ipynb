{
 "cells": [
  {
   "cell_type": "code",
   "execution_count": 2,
   "metadata": {},
   "outputs": [
    {
     "name": "stdout",
     "output_type": "stream",
     "text": [
      "The autoreload extension is already loaded. To reload it, use:\n",
      "  %reload_ext autoreload\n"
     ]
    }
   ],
   "source": [
    "import matplotlib\n",
    "import matplotlib.pyplot as plt\n",
    "%matplotlib inline\n",
    "import numpy as np\n",
    "from sklearn.neighbors import KNeighborsClassifier\n",
    "from sklearn import datasets\n",
    "import tensorflow as tf\n",
    "from tensorflow import keras\n",
    "import sys; sys.path.append('../')\n",
    "from src.dataloader import spiral\n",
    "%load_ext autoreload\n",
    "%autoreload 2"
   ]
  },
  {
   "cell_type": "code",
   "execution_count": 3,
   "metadata": {},
   "outputs": [],
   "source": [
    "regions = [\n",
    "    [0,0,0,0],\n",
    "    [0,0,0,0],\n",
    "    [0,0,1,0],\n",
    "    [0,1,0,0],\n",
    "    [0,1,0,1],\n",
    "    [1,0,0,0],\n",
    "    [1,1,0,0]\n",
    "]\n",
    "xy = [\n",
    "    (1,1),\n",
    "    (1,2),\n",
    "    (2,1),\n",
    "    (0,-1),\n",
    "    (-1,-1),\n",
    "    (-0.5,1),\n",
    "    (-1,0.5)\n",
    "]"
   ]
  },
  {
   "cell_type": "code",
   "execution_count": 4,
   "metadata": {},
   "outputs": [],
   "source": [
    "encoded = np.unique(np.asarray(regions)[:,:2], axis=0, return_inverse=True)[1]\n",
    "clf1 = KNeighborsClassifier(n_neighbors=1)\n",
    "clf1 = clf1.fit(xy, encoded)\n",
    "\n",
    "encoded = np.unique(np.asarray(regions), axis=0, return_inverse=True)[1]\n",
    "clf2 = KNeighborsClassifier(n_neighbors=1)\n",
    "clf2 = clf2.fit(xy, encoded)"
   ]
  },
  {
   "cell_type": "code",
   "execution_count": 5,
   "metadata": {},
   "outputs": [
    {
     "data": {
      "image/png": "[encoded data removed]",
      "text/plain": [
       "<Figure size 360x360 with 1 Axes>"
      ]
     },
     "metadata": {
      "needs_background": "light"
     },
     "output_type": "display_data"
    }
   ],
   "source": [
    "fig, ax = plt.subplots(1,1, figsize=(5,5))\n",
    "X, Y = list(zip(*xy))\n",
    "ax.scatter(X, Y)\n",
    "\n",
    "# plot the decision function\n",
    "xlim = ax.get_xlim()\n",
    "ylim = ax.get_ylim()\n",
    "\n",
    "# create grid to evaluate model\n",
    "xx = np.linspace(xlim[0], xlim[1], 100)\n",
    "yy = np.linspace(ylim[0], ylim[1], 100)\n",
    "YY, XX = np.meshgrid(yy, xx)\n",
    "XY = np.vstack([XX.ravel(), YY.ravel()]).T\n",
    "\n",
    "for clf, c in zip([clf2, clf1], ['blue', 'red']):\n",
    "    # plot linear region boundaries\n",
    "    Z = clf.predict(XY).reshape(XX.shape)\n",
    "    ax.contour(XX, YY, Z, colors=c, alpha=0.5)#, linestyles=['-'])\n",
    "\n",
    "plt.show()"
   ]
  },
  {
   "cell_type": "code",
   "execution_count": null,
   "metadata": {},
   "outputs": [],
   "source": []
  }
 ],
 "metadata": {
  "kernelspec": {
   "display_name": "Python (tf)",
   "language": "python",
   "name": "tf"
  },
  "language_info": {
   "codemirror_mode": {
    "name": "ipython",
    "version": 3
   },
   "file_extension": ".py",
   "mimetype": "text/x-python",
   "name": "python",
   "nbconvert_exporter": "python",
   "pygments_lexer": "ipython3",
   "version": "3.7.9"
  }
 },
 "nbformat": 4,
 "nbformat_minor": 4
}
